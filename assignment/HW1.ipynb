{
 "cells": [
  {
   "cell_type": "code",
   "execution_count": 2,
   "metadata": {},
   "outputs": [],
   "source": [
    "import sys                                                                                               \n",
    "                                                                                                         \n",
    "# MSGS = ( ---  11 secret messages  --- )                                                                                 \n",
    "                                                                                                         \n",
    "# xor two strings (trims the longer input)                                                               \n",
    "# strxor takes in two binary strings.                                                                    \n",
    "# to convert string s to a binary string, use s.encode(\"ascii\")                                          \n",
    "def strxor(a, b):                                                                                        \n",
    "    return bytearray([x ^ y for (x, y) in zip(a, b)])                                                    \n",
    "                                                                                                         \n",
    "def random(size=16):                                                                                     \n",
    "    return open(\"/dev/urandom\", \"rb\").read(size)                                                         \n",
    "                                                                                                         \n",
    "def encrypt(key, msg):                                                                                   \n",
    "    c = strxor(key, msg.encode('ascii'))                                                                 \n",
    "    print(c.hex())                                                                                       \n",
    "    return c                                                                                             \n",
    "                                                                                                         \n",
    "def main():                                                                                              \n",
    "    key = random(1024)                                                                                   \n",
    "    ciphertexts = [encrypt(key, msg) for msg in MSGS]                                                    "
   ]
  },
  {
   "cell_type": "code",
   "execution_count": 6,
   "metadata": {},
   "outputs": [
    {
     "name": "stdout",
     "output_type": "stream",
     "text": [
      "bytearray(b'\\x02\\x03\\x05\\x07')\n"
     ]
    }
   ],
   "source": [
    "prime_numbers = [2, 3, 5, 7]\n",
    "\n",
    "# convert list to bytearray\n",
    "byte_array = bytearray(prime_numbers)\n",
    "print(byte_array)"
   ]
  },
  {
   "cell_type": "code",
   "execution_count": 2,
   "metadata": {},
   "outputs": [
    {
     "name": "stdout",
     "output_type": "stream",
     "text": [
      "02030507\n"
     ]
    }
   ],
   "source": [
    "print(byte_array.hex())"
   ]
  },
  {
   "cell_type": "code",
   "execution_count": 208,
   "metadata": {},
   "outputs": [],
   "source": [
    "ct=[\"315c4eeaa8b5f8aaf9174145bf43e1784b8fa00dc71d885a804e5ee9fa40b16349c146fb778cdf2d3aff021dfff5b403b510d0d0455468aeb98622b137dae857553ccd8883a7bc37520e06e515d22c954eba5025b8cc57ee59418ce7dc6bc41556bdb36bbca3e8774301fbcaa3b83b220809560987815f65286764703de0f3d524400a19b159610b11ef3e\"\n",
    ",\"234c02ecbbfbafa3ed18510abd11fa724fcda2018a1a8342cf064bbde548b12b07df44ba7191d9606ef4081ffde5ad46a5069d9f7f543bedb9c861bf29c7e205132eda9382b0bc2c5c4b45f919cf3a9f1cb74151f6d551f4480c82b2cb24cc5b028aa76eb7b4ab24171ab3cdadb8356f\"\n",
    ",\"32510ba9a7b2bba9b8005d43a304b5714cc0bb0c8a34884dd91304b8ad40b62b07df44ba6e9d8a2368e51d04e0e7b207b70b9b8261112bacb6c866a232dfe257527dc29398f5f3251a0d47e503c66e935de81230b59b7afb5f41afa8d661cb\"\n",
    ",\"32510ba9aab2a8a4fd06414fb517b5605cc0aa0dc91a8908c2064ba8ad5ea06a029056f47a8ad3306ef5021eafe1ac01a81197847a5c68a1b78769a37bc8f4575432c198ccb4ef63590256e305cd3a9544ee4160ead45aef520489e7da7d835402bca670bda8eb775200b8dabbba246b130f040d8ec6447e2c767f3d30ed81ea2e4c1404e1315a1010e7229be6636aaa\"\n",
    ",\"3f561ba9adb4b6ebec54424ba317b564418fac0dd35f8c08d31a1fe9e24fe56808c213f17c81d9607cee021dafe1e001b21ade877a5e68bea88d61b93ac5ee0d562e8e9582f5ef375f0a4ae20ed86e935de81230b59b73fb4302cd95d770c65b40aaa065f2a5e33a5a0bb5dcaba43722130f042f8ec85b7c2070\"\n",
    ",\"32510bfbacfbb9befd54415da243e1695ecabd58c519cd4bd2061bbde24eb76a19d84aba34d8de287be84d07e7e9a30ee714979c7e1123a8bd9822a33ecaf512472e8e8f8db3f9635c1949e640c621854eba0d79eccf52ff111284b4cc61d11902aebc66f2b2e436434eacc0aba938220b084800c2ca4e693522643573b2c4ce35050b0cf774201f0fe52ac9f26d71b6cf61a711cc229f77ace7aa88a2f19983122b11be87a59c355d25f8e4\"\n",
    ",\"32510bfbacfbb9befd54415da243e1695ecabd58c519cd4bd90f1fa6ea5ba47b01c909ba7696cf606ef40c04afe1ac0aa8148dd066592ded9f8774b529c7ea125d298e8883f5e9305f4b44f915cb2bd05af51373fd9b4af511039fa2d96f83414aaaf261bda2e97b170fb5cce2a53e675c154c0d9681596934777e2275b381ce2e40582afe67650b13e72287ff2270abcf73bb028932836fbdecfecee0a3b894473c1bbeb6b4913a536ce4f9b13f1efff71ea313c8661dd9a4ce\"\n",
    ",\"315c4eeaa8b5f8bffd11155ea506b56041c6a00c8a08854dd21a4bbde54ce56801d943ba708b8a3574f40c00fff9e00fa1439fd0654327a3bfc860b92f89ee04132ecb9298f5fd2d5e4b45e40ecc3b9d59e9417df7c95bba410e9aa2ca24c5474da2f276baa3ac325918b2daada43d6712150441c2e04f6565517f317da9d3\"\n",
    ",\"271946f9bbb2aeadec111841a81abc300ecaa01bd8069d5cc91005e9fe4aad6e04d513e96d99de2569bc5e50eeeca709b50a8a987f4264edb6896fb537d0a716132ddc938fb0f836480e06ed0fcd6e9759f40462f9cf57f4564186a2c1778f1543efa270bda5e933421cbe88a4a52222190f471e9bd15f652b653b7071aec59a2705081ffe72651d08f822c9ed6d76e48b63ab15d0208573a7eef027\"\n",
    ",\"466d06ece998b7a2fb1d464fed2ced7641ddaa3cc31c9941cf110abbf409ed39598005b3399ccfafb61d0315fca0a314be138a9f32503bedac8067f03adbf3575c3b8edc9ba7f537530541ab0f9f3cd04ff50d66f1d559ba520e89a2cb2a83\"\n",
    ",\"32510ba9babebbbefd001547a810e67149caee11d945cd7fc81a05e9f85aac650e9052ba6a8cd8257bf14d13e6f0a803b54fde9e77472dbff89d71b57bddef121336cb85ccb8f3315f4b52e301d16e9f52f904\"]"
   ]
  },
  {
   "cell_type": "code",
   "execution_count": 63,
   "metadata": {},
   "outputs": [],
   "source": [
    "a=[strxor(ct[2].encode(\"ascii\"),ct[i].encode(\"ascii\")) for i in range(10) if i!=2]"
   ]
  },
  {
   "cell_type": "code",
   "execution_count": 137,
   "metadata": {},
   "outputs": [
    {
     "data": {
      "text/plain": [
       "bytearray(b'v')"
      ]
     },
     "execution_count": 137,
     "metadata": {},
     "output_type": "execute_result"
    }
   ],
   "source": [
    "strxor(\"4\".encode(\"ascii\"),\"B\".encode(\"ascii\"))"
   ]
  },
  {
   "cell_type": "code",
   "execution_count": null,
   "metadata": {},
   "outputs": [],
   "source": [
    "a=[]\n",
    "for i in range(11):\n",
    "    "
   ]
  },
  {
   "cell_type": "code",
   "execution_count": 66,
   "metadata": {},
   "outputs": [
    {
     "name": "stdout",
     "output_type": "stream",
     "text": [
      "bytearray(b'\\x00\\x03\\x00R\\x04\\x07\\x04X\\x00\\x0f')\n",
      "bytearray(b'\\x01\\x01\\x01R\\x00P\\x04Z\\x03U')\n",
      "bytearray(b'\\x00\\x00\\x00\\x00\\x00\\x00\\x00\\x00\\x00V')\n",
      "bytearray(b'\\x00T\\x00\\x07\\x01\\x00\\x00\\x00\\x00S')\n",
      "bytearray(b'\\x00\\x00\\x00\\x00\\x00\\x00\\x07[\\x00T')\n",
      "bytearray(b'\\x00\\x00\\x00\\x00\\x00\\x00\\x07[\\x00T')\n",
      "bytearray(b'\\x00\\x03\\x00R\\x04\\x07\\x04X\\x00\\x0f')\n",
      "bytearray(b'\\x01\\x05\\x04\\x08\\x04T\\x07\\x00\\x03U')\n",
      "bytearray(b'\\x07\\x04\\x03U\\x00T\\x04Z\\x04\\x0e')\n"
     ]
    }
   ],
   "source": [
    "for item in a:\n",
    "    print(item[:10])"
   ]
  },
  {
   "cell_type": "code",
   "execution_count": 113,
   "metadata": {},
   "outputs": [
    {
     "name": "stdout",
     "output_type": "stream",
     "text": [
      "Using default display of bytes: b'abc' b'\\xc3\\xa1\\xc3\\xa9\\xc3\\xad'\n",
      "abc\n"
     ]
    }
   ],
   "source": [
    "print(\"Using default display of bytes:\", bytes.fromhex(\"616263\"), bytes.fromhex(\"c3a1c3a9c3ad\"))\n",
    "print(bytes.fromhex(\"616263\").decode(\"ascii\"))"
   ]
  },
  {
   "cell_type": "code",
   "execution_count": 221,
   "metadata": {},
   "outputs": [],
   "source": [
    "CT = [c1,c2,c3,c4,c5,c6,c7,c8,c9,c10,target]\n",
    "tmp =[]\n",
    "tmp+=binascii.a2b_hex(CT[0])"
   ]
  },
  {
   "cell_type": "code",
   "execution_count": 225,
   "metadata": {},
   "outputs": [
    {
     "data": {
      "text/plain": [
       "[49, 92, 78, 234, 168, 181, 248, 170, 249, 23]"
      ]
     },
     "execution_count": 225,
     "metadata": {},
     "output_type": "execute_result"
    }
   ],
   "source": [
    "tmp[:10]"
   ]
  },
  {
   "cell_type": "code",
   "execution_count": 230,
   "metadata": {},
   "outputs": [
    {
     "data": {
      "text/plain": [
       "49"
      ]
     },
     "execution_count": 230,
     "metadata": {},
     "output_type": "execute_result"
    }
   ],
   "source": [
    "ord(CT[0][0])"
   ]
  },
  {
   "cell_type": "code",
   "execution_count": null,
   "metadata": {},
   "outputs": [],
   "source": [
    "import binascii\n",
    " \n",
    "# Ciphertexts encrypted with the same key \n",
    "c1 = \"315c4eeaa8b5f8aaf9174145bf43e1784b8fa00dc71d885a804e5ee9fa40b16349c146fb778cdf2d3aff021dfff5b403b510d0d0455468aeb98622b137dae857553ccd8883a7bc37520e06e515d22c954eba5025b8cc57ee59418ce7dc6bc41556bdb36bbca3e8774301fbcaa3b83b220809560987815f65286764703de0f3d524400a19b159610b11ef3e\"\n",
    "c2 = \"234c02ecbbfbafa3ed18510abd11fa724fcda2018a1a8342cf064bbde548b12b07df44ba7191d9606ef4081ffde5ad46a5069d9f7f543bedb9c861bf29c7e205132eda9382b0bc2c5c4b45f919cf3a9f1cb74151f6d551f4480c82b2cb24cc5b028aa76eb7b4ab24171ab3cdadb8356f\"\n",
    "c3 = \"32510ba9a7b2bba9b8005d43a304b5714cc0bb0c8a34884dd91304b8ad40b62b07df44ba6e9d8a2368e51d04e0e7b207b70b9b8261112bacb6c866a232dfe257527dc29398f5f3251a0d47e503c66e935de81230b59b7afb5f41afa8d661cb\"\n",
    "c4 = \"32510ba9aab2a8a4fd06414fb517b5605cc0aa0dc91a8908c2064ba8ad5ea06a029056f47a8ad3306ef5021eafe1ac01a81197847a5c68a1b78769a37bc8f4575432c198ccb4ef63590256e305cd3a9544ee4160ead45aef520489e7da7d835402bca670bda8eb775200b8dabbba246b130f040d8ec6447e2c767f3d30ed81ea2e4c1404e1315a1010e7229be6636aaa\"\n",
    "c5 = \"3f561ba9adb4b6ebec54424ba317b564418fac0dd35f8c08d31a1fe9e24fe56808c213f17c81d9607cee021dafe1e001b21ade877a5e68bea88d61b93ac5ee0d562e8e9582f5ef375f0a4ae20ed86e935de81230b59b73fb4302cd95d770c65b40aaa065f2a5e33a5a0bb5dcaba43722130f042f8ec85b7c2070\"\n",
    "c6 = \"32510bfbacfbb9befd54415da243e1695ecabd58c519cd4bd2061bbde24eb76a19d84aba34d8de287be84d07e7e9a30ee714979c7e1123a8bd9822a33ecaf512472e8e8f8db3f9635c1949e640c621854eba0d79eccf52ff111284b4cc61d11902aebc66f2b2e436434eacc0aba938220b084800c2ca4e693522643573b2c4ce35050b0cf774201f0fe52ac9f26d71b6cf61a711cc229f77ace7aa88a2f19983122b11be87a59c355d25f8e4\"\n",
    "c7 = \"32510bfbacfbb9befd54415da243e1695ecabd58c519cd4bd90f1fa6ea5ba47b01c909ba7696cf606ef40c04afe1ac0aa8148dd066592ded9f8774b529c7ea125d298e8883f5e9305f4b44f915cb2bd05af51373fd9b4af511039fa2d96f83414aaaf261bda2e97b170fb5cce2a53e675c154c0d9681596934777e2275b381ce2e40582afe67650b13e72287ff2270abcf73bb028932836fbdecfecee0a3b894473c1bbeb6b4913a536ce4f9b13f1efff71ea313c8661dd9a4ce\"\n",
    "c8 = \"315c4eeaa8b5f8bffd11155ea506b56041c6a00c8a08854dd21a4bbde54ce56801d943ba708b8a3574f40c00fff9e00fa1439fd0654327a3bfc860b92f89ee04132ecb9298f5fd2d5e4b45e40ecc3b9d59e9417df7c95bba410e9aa2ca24c5474da2f276baa3ac325918b2daada43d6712150441c2e04f6565517f317da9d3\"\n",
    "c9 = \"271946f9bbb2aeadec111841a81abc300ecaa01bd8069d5cc91005e9fe4aad6e04d513e96d99de2569bc5e50eeeca709b50a8a987f4264edb6896fb537d0a716132ddc938fb0f836480e06ed0fcd6e9759f40462f9cf57f4564186a2c1778f1543efa270bda5e933421cbe88a4a52222190f471e9bd15f652b653b7071aec59a2705081ffe72651d08f822c9ed6d76e48b63ab15d0208573a7eef027\"\n",
    "c10 = \"466d06ece998b7a2fb1d464fed2ced7641ddaa3cc31c9941cf110abbf409ed39598005b3399ccfafb61d0315fca0a314be138a9f32503bedac8067f03adbf3575c3b8edc9ba7f537530541ab0f9f3cd04ff50d66f1d559ba520e89a2cb2a83\"\n",
    " \n",
    "# Ciphertext we need to decrypt, also encrypted with the same key as the ciphertexts above\n",
    "target = \"32510ba9babebbbefd001547a810e67149caee11d945cd7fc81a05e9f85aac650e9052ba6a8cd8257bf14d13e6f0a803b54fde9e77472dbff89d71b57bddef121336cb85ccb8f3315f4b52e301d16e9f52f904\"\n",
    " \n",
    "CT = [c1,c2,c3,c4,c5,c6,c7,c8,c9,c10,target]\n",
    " \n",
    "# Change every ciphertext from hex to ASCII\n",
    "for i in range(0,len(CT)):\n",
    "    tmp = []\n",
    "    new_string = \"\"\n",
    "    tmp += binascii.a2b_hex(CT[i])\n",
    "    for t in tmp:\n",
    "        new_string += chr(t)\n",
    "    CT[i] = new_string\n",
    "target = CT[10]\n",
    "print(\"TARGET:\")\n",
    "print(target + \"\\n\")\n",
    " \n",
    "# Finding characters of target ciphertext\n",
    "plain = \"\"\n",
    "plain_all = [\"\",\"\",\"\",\"\",\"\",\"\",\"\",\"\",\"\",\"\"]\n",
    "for target_index in range(len(target)):\n",
    "    while True:\n",
    "        tmp = []\n",
    "        print(\"Current target char: \"+str(hex(ord(target[target_index]))))\n",
    "        try_this_char = input(\"TRY THIS CHARACTER NEXT: \")\n",
    "        for ct in range(len(CT)-1):\n",
    "            target_xor_ct = chr((ord(target[target_index])^ord(CT[ct][target_index])))\n",
    "            target_xor_ct = chr(ord(target_xor_ct)^ord(try_this_char))\n",
    "            tmp += target_xor_ct\n",
    "        print(\"CURRENT STATE:\")\n",
    "        for p in range(len(plain_all)):\n",
    "            plain_all[p] += tmp[p]\n",
    "            print(\"plain[\"+str(p)+\"]:\")\n",
    "            print(plain_all[p])\n",
    "        print(\"\")\n",
    "        choose_ok = input(\"IS THIS STATE OK? y/n/h: \")\n",
    "         \n",
    "        if(choose_ok == \"y\"):    # If \"y\", save the current state and print it out\n",
    "            print(\"STATE AFTER ALTERING:\")\n",
    "            for p in range(len(plain_all)):\n",
    "                print(\"plain[\"+str(p)+\"]:\")\n",
    "                print(plain_all[p])\n",
    "            plain += try_this_char\n",
    "            print(\"target plaintext:\"+plain)\n",
    "            break\n",
    "         \n",
    "        elif(choose_ok == \"h\"):      # If \"h\", help with finding the next char to choose\n",
    "            print(\"Index to find = \"+str(target_index))\n",
    "            choose_plain = input(\"choose a plaintext index in which you know the next character [0-9]: \")\n",
    "            choose_next_character = input(\"which char do you think is next in choosen plaintext?\")\n",
    "            if((target_index+1) < len(target)):\n",
    "                next_to_enter = chr((ord(target[target_index])^ord(CT[int(choose_plain)][target_index])))\n",
    "                next_to_enter = chr(ord(next_to_enter)^ord(choose_next_character))\n",
    "            print(\"then you need to enter: \"+next_to_enter)\n",
    "            for p in range(len(plain_all)):\n",
    "                plain_all[p] = plain_all[p][:-1]\n",
    "            continue\n",
    "             \n",
    "        else:\n",
    "            for p in range(len(plain_all)):\n",
    "                plain_all[p] = plain_all[p][:-1]\n",
    "            continue"
   ]
  },
  {
   "cell_type": "code",
   "execution_count": 174,
   "metadata": {},
   "outputs": [],
   "source": [
    "CT = [c1,c2,c3,c4,c5,c6,c7,c8,c9,c10,target]\n",
    " \n",
    "# Change every ciphertext from hex to ASCII\n",
    "for i in range(0,len(CT)):\n",
    "    tmp = []\n",
    "    new_string = \"\"\n",
    "    tmp += binascii.a2b_hex(CT[i])\n",
    "    for t in tmp:\n",
    "        new_string += chr(t)\n",
    "    CT[i] = new_string\n",
    "target = CT[10]"
   ]
  },
  {
   "cell_type": "code",
   "execution_count": 182,
   "metadata": {},
   "outputs": [
    {
     "data": {
      "text/plain": [
       "'2Q\\x0b©º¾»¾ý\\x00\\x15G¨\\x10æqIÊî\\x11ÙEÍ\\x7fÈ\\x1a\\x05éøZ¬e\\x0e\\x90Rºj\\x8cØ%{ñM\\x13æð¨\\x03µOÞ\\x9ewG-¿ø\\x9dqµ{Ýï\\x12\\x136Ë\\x85Ì¸ó1_KRã\\x01Ñn\\x9fRù\\x04'"
      ]
     },
     "execution_count": 182,
     "metadata": {},
     "output_type": "execute_result"
    }
   ],
   "source": [
    "target"
   ]
  },
  {
   "cell_type": "code",
   "execution_count": 189,
   "metadata": {},
   "outputs": [
    {
     "data": {
      "text/plain": [
       "'0x51'"
      ]
     },
     "execution_count": 189,
     "metadata": {},
     "output_type": "execute_result"
    }
   ],
   "source": [
    "str(hex(ord('Q')))"
   ]
  },
  {
   "cell_type": "raw",
   "metadata": {},
   "source": [
    "STATE AFTER ALTERING:\n",
    "plain[0]:\n",
    "We can factor the number 15 with quantum computers. We can also factor the number 1\n",
    "plain[1]:\n",
    "Euler would probably enjoy that now his theorem becomes a corner stone of crypto -\n",
    "plain[2]:\n",
    "The nice thing about Keeyloq is now we cryptographers can drive a lot of fancy cars\n",
    "plain[3]:\n",
    "The ciphertext produced by a weak encryption algorithm looks as good as ciphertext\n",
    "plain[4]:\n",
    "You don't want to buy a set of car keys from a guy who specializes in stealing cars\n",
    "plain[5]:\n",
    "There are two types of cryptography - that which will keep secrets safe from your l\n",
    "plain[6]:\n",
    "There are two types of cyptography: one that allows the Government to use brute for\n",
    "plain[7]:\n",
    "We can see the point where the chip is unhappy if a wrong bit is sent and consumes\n",
    "plain[8]:\n",
    "A (private-key)  encryption scheme states 3 algorithms, namely a procedure for gene\n",
    "plain[9]:\n",
    "The Concise OxfordDictionary (2006) deï¬nes crypto as the art of  writing o r sol\n",
    "target plaintext:The secret message is: When using a stream cipher, never use the key more than once\n"
   ]
  },
  {
   "cell_type": "code",
   "execution_count": 197,
   "metadata": {},
   "outputs": [],
   "source": [
    "a=\"The secret message is: When using a stream cipher, never use the key more than once\""
   ]
  },
  {
   "cell_type": "code",
   "execution_count": 205,
   "metadata": {},
   "outputs": [
    {
     "data": {
      "text/plain": [
       "'0x540x680x650x200x730x650x630x720x650x740x200x6d0x650x730x730x610x670x650x200x690x730x3a0x200x570x680x650x6e0x200x750x730x690x6e0x670x200x610x200x730x740x720x650x610x6d0x200x630x690x700x680x650x720x2c0x200x6e0x650x760x650x720x200x750x730x650x200x740x680x650x200x6b0x650x790x200x6d0x6f0x720x650x200x740x680x610x6e0x200x6f0x6e0x630x65'"
      ]
     },
     "execution_count": 205,
     "metadata": {},
     "output_type": "execute_result"
    }
   ],
   "source": [
    "\"\".join([hex(ord(i)) for i in a])"
   ]
  },
  {
   "cell_type": "code",
   "execution_count": 231,
   "metadata": {},
   "outputs": [],
   "source": [
    "plaintext=a.encode(\"ascii\")"
   ]
  },
  {
   "cell_type": "code",
   "execution_count": 232,
   "metadata": {},
   "outputs": [
    {
     "data": {
      "text/plain": [
       "b'The secret message is: When using a stream cipher, never use the key more than once'"
      ]
     },
     "execution_count": 232,
     "metadata": {},
     "output_type": "execute_result"
    }
   ],
   "source": [
    "plaintext"
   ]
  },
  {
   "cell_type": "code",
   "execution_count": 234,
   "metadata": {},
   "outputs": [],
   "source": [
    "ciphertext=CT[-1]"
   ]
  },
  {
   "cell_type": "code",
   "execution_count": 235,
   "metadata": {},
   "outputs": [
    {
     "data": {
      "text/plain": [
       "(83, 83)"
      ]
     },
     "execution_count": 235,
     "metadata": {},
     "output_type": "execute_result"
    }
   ],
   "source": [
    "len(plaintext),len(ciphertext)"
   ]
  },
  {
   "cell_type": "code",
   "execution_count": 236,
   "metadata": {},
   "outputs": [
    {
     "ename": "TypeError",
     "evalue": "unsupported operand type(s) for ^: 'int' and 'str'",
     "output_type": "error",
     "traceback": [
      "\u001b[0;31m---------------------------------------------------------------------------\u001b[0m",
      "\u001b[0;31mTypeError\u001b[0m                                 Traceback (most recent call last)",
      "Cell \u001b[0;32mIn[236], line 1\u001b[0m\n\u001b[0;32m----> 1\u001b[0m key \u001b[38;5;241m=\u001b[39m \u001b[43mstrxor\u001b[49m\u001b[43m(\u001b[49m\u001b[43mplaintext\u001b[49m\u001b[43m,\u001b[49m\u001b[43mciphertext\u001b[49m\u001b[43m)\u001b[49m\n",
      "Cell \u001b[0;32mIn[2], line 9\u001b[0m, in \u001b[0;36mstrxor\u001b[0;34m(a, b)\u001b[0m\n\u001b[1;32m      8\u001b[0m \u001b[38;5;28;01mdef\u001b[39;00m \u001b[38;5;21mstrxor\u001b[39m(a, b):                                                                                        \n\u001b[0;32m----> 9\u001b[0m     \u001b[38;5;28;01mreturn\u001b[39;00m \u001b[38;5;28mbytearray\u001b[39m([x \u001b[38;5;241m^\u001b[39m y \u001b[38;5;28;01mfor\u001b[39;00m (x, y) \u001b[38;5;129;01min\u001b[39;00m \u001b[38;5;28mzip\u001b[39m(a, b)])\n",
      "Cell \u001b[0;32mIn[2], line 9\u001b[0m, in \u001b[0;36m<listcomp>\u001b[0;34m(.0)\u001b[0m\n\u001b[1;32m      8\u001b[0m \u001b[38;5;28;01mdef\u001b[39;00m \u001b[38;5;21mstrxor\u001b[39m(a, b):                                                                                        \n\u001b[0;32m----> 9\u001b[0m     \u001b[38;5;28;01mreturn\u001b[39;00m \u001b[38;5;28mbytearray\u001b[39m([\u001b[43mx\u001b[49m\u001b[43m \u001b[49m\u001b[38;5;241;43m^\u001b[39;49m\u001b[43m \u001b[49m\u001b[43my\u001b[49m \u001b[38;5;28;01mfor\u001b[39;00m (x, y) \u001b[38;5;129;01min\u001b[39;00m \u001b[38;5;28mzip\u001b[39m(a, b)])\n",
      "\u001b[0;31mTypeError\u001b[0m: unsupported operand type(s) for ^: 'int' and 'str'"
     ]
    }
   ],
   "source": [
    "key = strxor(plaintext,ciphertext)"
   ]
  },
  {
   "cell_type": "code",
   "execution_count": 240,
   "metadata": {},
   "outputs": [],
   "source": [
    "key=[x ^ ord(y) for (x, y) in zip(plaintext, ciphertext)]"
   ]
  },
  {
   "cell_type": "code",
   "execution_count": 248,
   "metadata": {},
   "outputs": [],
   "source": [
    "plaintext=[(x)^ord(y) for (x,y)in zip(key,CT[0])]"
   ]
  },
  {
   "cell_type": "code",
   "execution_count": 250,
   "metadata": {},
   "outputs": [
    {
     "data": {
      "text/plain": [
       "'W e   c a n   f a c t o r   t h e   n u m b e r   1 5   w i t h   q u a n t u m   c o m p u t e r s .   W e   c a n   a l s o   f a c t o r   t h e   n u m b e r   1'"
      ]
     },
     "execution_count": 250,
     "metadata": {},
     "output_type": "execute_result"
    }
   ],
   "source": [
    "\" \".join([chr(i) for i in plaintext])"
   ]
  },
  {
   "cell_type": "code",
   "execution_count": null,
   "metadata": {},
   "outputs": [],
   "source": []
  }
 ],
 "metadata": {
  "kernelspec": {
   "display_name": "Python 3 (ipykernel)",
   "language": "python",
   "name": "python3"
  },
  "language_info": {
   "codemirror_mode": {
    "name": "ipython",
    "version": 3
   },
   "file_extension": ".py",
   "mimetype": "text/x-python",
   "name": "python",
   "nbconvert_exporter": "python",
   "pygments_lexer": "ipython3",
   "version": "3.9.4"
  },
  "vscode": {
   "interpreter": {
    "hash": "45c4da42434c0e26d804c0fa2a9ee0486eea00a44dceeb0c92c419dea1e69cd8"
   }
  }
 },
 "nbformat": 4,
 "nbformat_minor": 4
}
